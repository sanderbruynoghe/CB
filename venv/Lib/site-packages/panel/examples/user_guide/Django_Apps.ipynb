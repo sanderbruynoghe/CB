{
 "cells": [
  {
   "cell_type": "markdown",
   "metadata": {},
   "source": [
    "As the core user guides including the [Introduction](Introduction.ipynb) have demonstrated, it is easy to display Panel apps in the notebook, launch them from an interactive Python prompt, and deploy them as a standalone Bokeh server app from the commandline. However, it is also often useful to embed a Panel app in large web application, such as a Django web server. Using Panel with Django requires a bit more work than for notebooks and Bokeh servers.\n",
    "\n",
    "To run this example app yourself, you will first need to install django 2 (e.g. `conda install \"django=2\"`)."
   ]
  },
  {
   "cell_type": "markdown",
   "metadata": {},
   "source": [
    "## Sliders app\n",
    "\n",
    "Based on a standard Django2 app template, this app shows how to integrate Panel with a Django view, but there's currently no interaction between the Param and Django models.\n",
    "\n",
    "The sliders app is in `examples/apps/django2/sliders`. We will cover the following additions/modifications to the Django2 app template:\n",
    "\n",
    "  * `sliders/sinewave.py`: a parameterized object (representing your pre-existing code)\n",
    "\n",
    "  * `sliders/bk_sliders.py`: creates a Bokeh app function from the SineWave class\n",
    "\n",
    "  * `sliders/apps.py`: how a Django app can import and use Bokeh server\n",
    "\n",
    "  * `sliders/views.py` and `templates/base.html`: getting the Bokeh app into a Django view\n",
    "\n",
    "You should be able to run this app yourself by changing to the `examples/apps/django2` directory and then running: `python manage.py runserver`; then visit http://localhost:8000/sliders in your browser to try the app."
   ]
  },
  {
   "cell_type": "markdown",
   "metadata": {},
   "source": [
    "![screenshot of sliders app](../apps/django2/sliders.png)"
   ]
  },
  {
   "cell_type": "markdown",
   "metadata": {},
   "source": [
    "To start with, in `sliders/sinewave.py` we create a parameterized object to serve as a placeholder for your own, existing code:"
   ]
  },
  {
   "cell_type": "code",
   "execution_count": null,
   "metadata": {},
   "outputs": [],
   "source": [
    "import param\n",
    "import numpy as np\n",
    "\n",
    "from bokeh.models import ColumnDataSource\n",
    "from bokeh.plotting import figure\n",
    "\n",
    "\n",
    "class SineWave(param.Parameterized):\n",
    "\n",
    "    offset = param.Number(default=0.0, bounds=(-5.0,5.0))\n",
    "    amplitude = param.Number(default=1.0, bounds=(-5.0,5.0))\n",
    "    phase = param.Number(default=0.0,bounds=(0.0,2*np.pi))\n",
    "    frequency = param.Number(default=1.0, bounds=(0.1, 5.1))\n",
    "    N = param.Integer(default=200, bounds=(0,None))\n",
    "    x_range = param.Range(default=(0, 4*np.pi),bounds=(0,4*np.pi))\n",
    "    y_range = param.Range(default=(-2.5,2.5),bounds=(-10,10))\n",
    "\n",
    "    def __init__(self, **params):\n",
    "        super(SineWave, self).__init__(**params)\n",
    "        x, y = self.sine()\n",
    "        self.cds = ColumnDataSource(data=dict(x=x, y=y))\n",
    "        self.plot = figure(plot_height=400, plot_width=400,\n",
    "                      tools=\"crosshair,pan,reset,save,wheel_zoom\",\n",
    "                           x_range=self.x_range, y_range=self.y_range)\n",
    "        self.plot.line('x', 'y', source=self.cds, line_width=3, line_alpha=0.6)\n",
    "\n",
    "    @param.depends('N', 'frequency', 'amplitude', 'offset', 'phase', 'x_range', 'y_range', watch=True)\n",
    "    def update_plot(self):\n",
    "        x, y = self.sine()\n",
    "        self.cds.data = dict(x=x, y=y)\n",
    "        self.plot.x_range.start, self.plot.x_range.end = self.x_range\n",
    "        self.plot.y_range.start, self.plot.y_range.end = self.y_range\n",
    "\n",
    "    def sine(self):\n",
    "        x = np.linspace(0, 4*np.pi, self.N)\n",
    "        y = self.amplitude*np.sin(self.frequency*x + self.phase) + self.offset\n",
    "        return x, y"
   ]
  },
  {
   "cell_type": "markdown",
   "metadata": {},
   "source": [
    "We then create an instance of the class, use it to declare a panel from the parameters and the Bokeh plot, and create a root model:"
   ]
  },
  {
   "cell_type": "markdown",
   "metadata": {},
   "source": [
    "```python\n",
    "def app(doc):\n",
    "    sw = SineWave()\n",
    "    row = pn.Row(sw.param, sw.plot)\n",
    "    row._get_root(doc)\n",
    "```"
   ]
  },
  {
   "cell_type": "markdown",
   "metadata": {},
   "source": [
    "The first Django-specific aspect of our example is to show how a Django app can import and use Bokeh server. This is based on https://github.com/bokeh/bokeh/blob/0.12.16/examples/howto/server_embed/flask_embed.py, which shows how to embed Bokeh in a Flask app."
   ]
  },
  {
   "cell_type": "markdown",
   "metadata": {},
   "source": [
    "```python\n",
    "from django.apps import AppConfig\n",
    "\n",
    "from bokeh.server.server import Server\n",
    "\n",
    "from tornado.ioloop import IOLoop\n",
    "\n",
    "from . import bk_sliders\n",
    "from . import bk_config\n",
    "\n",
    "def bk_worker():\n",
    "    # Note: num_procs must be 1; see e.g. flask_gunicorn_embed.py for num_procs>1\n",
    "    server = Server({'/bk_sliders_app': bk_sliders.app},\n",
    "                    io_loop=IOLoop(),\n",
    "                    address=bk_config.server['address'],\n",
    "                    port=bk_config.server['port'],\n",
    "                    allow_websocket_origin=[\"localhost:8000\"])\n",
    "    server.start()\n",
    "    server.io_loop.start()\n",
    "\n",
    "class Sliders(AppConfig):\n",
    "    name = 'sliders'\n",
    "    def ready(self):\n",
    "        from threading import Thread\n",
    "        Thread(target=bk_worker).start()\n",
    "```"
   ]
  },
  {
   "cell_type": "markdown",
   "metadata": {},
   "source": [
    "Here, `localhost:8000` is the address of the Django app. Note also we have made a simple config file, `bk_config.py`, for Bokeh server settings:"
   ]
  },
  {
   "cell_type": "markdown",
   "metadata": {},
   "source": [
    "```python\n",
    "server = dict(\n",
    "    address = \"localhost\",\n",
    "    port = 5006\n",
    ")\n",
    "```"
   ]
  },
  {
   "cell_type": "markdown",
   "metadata": {},
   "source": [
    "Finally, in `sliders/views.py` we create a view to display the Bokeh sliders app:"
   ]
  },
  {
   "cell_type": "markdown",
   "metadata": {},
   "source": [
    "```python\n",
    "from django.shortcuts import render\n",
    "\n",
    "from bokeh.embed import server_document\n",
    "\n",
    "from . import bk_config\n",
    "\n",
    "def sliders(request):\n",
    "    return render(request, 'base.html', {\n",
    "        \"server_script\": server_document('http://%s:%s/bk_sliders_app'%(bk_config.server['address'],\n",
    "                                                                        bk_config.server['port']))})\n",
    "```"
   ]
  },
  {
   "cell_type": "markdown",
   "metadata": {},
   "source": [
    "The corresponding template is in templates/base.html:"
   ]
  },
  {
   "cell_type": "markdown",
   "metadata": {},
   "source": [
    "```\n",
    "{% block content %}\n",
    "{{server_script|safe}}\t\n",
    "{% endblock %}\n",
    "```"
   ]
  }
 ],
 "metadata": {
  "language_info": {
   "name": "python",
   "pygments_lexer": "ipython3"
  }
 },
 "nbformat": 4,
 "nbformat_minor": 2
}
