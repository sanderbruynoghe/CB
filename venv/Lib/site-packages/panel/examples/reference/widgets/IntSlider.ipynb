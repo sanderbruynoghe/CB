{
 "cells": [
  {
   "cell_type": "code",
   "execution_count": null,
   "metadata": {},
   "outputs": [],
   "source": [
    "import panel as pn\n",
    "\n",
    "pn.extension()"
   ]
  },
  {
   "cell_type": "markdown",
   "metadata": {},
   "source": [
    "The ``IntSlider`` widget allows selecting selecting an integer value within a set bounds using a slider.\n",
    "\n",
    "For more information about listening to widget events and laying out widgets refer to the [widgets user guide](../../user_guide/Widgets.ipynb). Alternatively you can learn how to build GUIs by declaring parameters independently of any specific widgets in the [param user guide](../../user_guide/Param.ipynb). To express interactivity entirely using Javascript without the need for a Python server take a look at the [links user guide](../../user_guide/Param.ipynb).\n",
    "\n",
    "#### Parameters:\n",
    "\n",
    "For layout and styling related parameters see the [customization user guide](../../user_guide/Customization.ipynb).\n",
    "\n",
    "##### Core\n",
    "\n",
    "* **``start``** (int): The range's lower bound\n",
    "* **``end``** (int): The range's upper bound\n",
    "* **``step``** (int): The interval between values\n",
    "* **``value``** (int): The selected value as a datetime type\n",
    "\n",
    "##### Display\n",
    "\n",
    "* **``bar_color``** (color): Color of the slider bar as a hexadecimal RGB value\n",
    "* **``callback_policy``** (str): Policy to determine when slider events are triggered (one of 'continuous', 'throttle', 'mouseup')\n",
    "* **``callback_throttle``** (int): Number of milliseconds to pause between callback calls as the slider is moved\n",
    "* **``direction``** (str): Whether the slider should go from left to right ('ltr') or right to left ('rtl')\n",
    "* **``disabled``** (boolean): Whether the widget is editable\n",
    "* **``name``** (str): The title of the widget\n",
    "* **``orientation``** (str): Whether the slider should be displayed in a 'horizontal' or 'vertical' orientation.\n",
    "* **``tooltips``** (boolean): Whether to display tooltips on the slider handle\n",
    "\n",
    "\n",
    "___"
   ]
  },
  {
   "cell_type": "code",
   "execution_count": null,
   "metadata": {},
   "outputs": [],
   "source": [
    "int_slider = pn.widgets.IntSlider(name='Integer Slider', start=0, end=8, step=2, value=4)\n",
    "\n",
    "int_slider"
   ]
  },
  {
   "cell_type": "markdown",
   "metadata": {},
   "source": [
    "The ``IntSlider`` value is returned as a integer and can be accessed and set like any other widget:"
   ]
  },
  {
   "cell_type": "code",
   "execution_count": null,
   "metadata": {},
   "outputs": [],
   "source": [
    "int_slider.value"
   ]
  }
 ],
 "metadata": {
  "language_info": {
   "name": "python",
   "pygments_lexer": "ipython3"
  }
 },
 "nbformat": 4,
 "nbformat_minor": 2
}
